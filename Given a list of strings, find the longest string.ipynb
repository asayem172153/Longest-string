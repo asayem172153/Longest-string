{
  "nbformat": 4,
  "nbformat_minor": 0,
  "metadata": {
    "colab": {
      "provenance": []
    },
    "kernelspec": {
      "name": "python3",
      "display_name": "Python 3"
    },
    "language_info": {
      "name": "python"
    }
  },
  "cells": [
    {
      "cell_type": "code",
      "execution_count": 1,
      "metadata": {
        "colab": {
          "base_uri": "https://localhost:8080/"
        },
        "id": "5SrxjD1mQhEj",
        "outputId": "4fc892a3-b7e5-40e6-b1c9-dc07d192d75f"
      },
      "outputs": [
        {
          "output_type": "stream",
          "name": "stdout",
          "text": [
            "Longest string is: dragonfruit\n"
          ]
        }
      ],
      "source": [
        "strings = [\"apple\", \"banana\", \"cherry\", \"dragonfruit\"]\n",
        "longest_string = ''\n",
        "\n",
        "for i in strings:\n",
        "  if len(i) > len(longest_string):\n",
        "    longest_string = i\n",
        "\n",
        "print('Longest string is:',longest_string)"
      ]
    }
  ]
}